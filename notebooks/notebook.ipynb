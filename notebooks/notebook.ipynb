{
 "cells": [
  {
   "cell_type": "code",
   "execution_count": 5,
   "id": "f0c8f501",
   "metadata": {},
   "outputs": [
    {
     "name": "stderr",
     "output_type": "stream",
     "text": [
      "Matplotlib is building the font cache; this may take a moment.\n"
     ]
    }
   ],
   "source": [
    "# Import Libraries\n",
    "import pandas as pd\n",
    "import numpy as np\n",
    "import matplotlib.pyplot as plt\n",
    "import seaborn as sns"
   ]
  },
  {
   "cell_type": "code",
   "execution_count": 10,
   "id": "2a4d5f07",
   "metadata": {},
   "outputs": [
    {
     "name": "stdout",
     "output_type": "stream",
     "text": [
      "Index(['country', 'location_name', 'latitude', 'longitude', 'timezone',\n",
      "       'last_updated_epoch', 'last_updated', 'temperature_celsius',\n",
      "       'temperature_fahrenheit', 'condition_text', 'wind_mph', 'wind_kph',\n",
      "       'wind_degree', 'wind_direction', 'pressure_mb', 'pressure_in',\n",
      "       'precip_mm', 'precip_in', 'humidity', 'cloud', 'feels_like_celsius',\n",
      "       'feels_like_fahrenheit', 'visibility_km', 'visibility_miles',\n",
      "       'uv_index', 'gust_mph', 'gust_kph', 'air_quality_Carbon_Monoxide',\n",
      "       'air_quality_Ozone', 'air_quality_Nitrogen_dioxide',\n",
      "       'air_quality_Sulphur_dioxide', 'air_quality_PM2.5', 'air_quality_PM10',\n",
      "       'air_quality_us-epa-index', 'air_quality_gb-defra-index', 'sunrise',\n",
      "       'sunset', 'moonrise', 'moonset', 'moon_phase', 'moon_illumination'],\n",
      "      dtype='object')\n"
     ]
    }
   ],
   "source": [
    "\n",
    "df = pd.read_csv('../data/global-weather-repository/GlobalWeatherRepository.csv')\n",
    "\n",
    "# Display the first few rows of the dataframe\n",
    "# print(df.head())\n",
    "# Display the columns of the dataframe\n",
    "print(df.columns)"
   ]
  },
  {
   "cell_type": "code",
   "execution_count": null,
   "id": "a197177c",
   "metadata": {},
   "outputs": [],
   "source": []
  }
 ],
 "metadata": {
  "kernelspec": {
   "display_name": ".venv",
   "language": "python",
   "name": "python3"
  },
  "language_info": {
   "codemirror_mode": {
    "name": "ipython",
    "version": 3
   },
   "file_extension": ".py",
   "mimetype": "text/x-python",
   "name": "python",
   "nbconvert_exporter": "python",
   "pygments_lexer": "ipython3",
   "version": "3.13.3"
  }
 },
 "nbformat": 4,
 "nbformat_minor": 5
}
